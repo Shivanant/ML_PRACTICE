{
 "cells": [
  {
   "cell_type": "code",
   "execution_count": 1,
   "id": "7faaeb7b",
   "metadata": {},
   "outputs": [],
   "source": [
    "import numpy as np "
   ]
  },
  {
   "cell_type": "code",
   "execution_count": 2,
   "id": "5e83e30f",
   "metadata": {},
   "outputs": [
    {
     "name": "stdout",
     "output_type": "stream",
     "text": [
      "Vector: [23 32]\n"
     ]
    }
   ],
   "source": [
    "vector = np.array([23,32])\n",
    "print(\"Vector:\", vector)"
   ]
  },
  {
   "cell_type": "code",
   "execution_count": 3,
   "id": "7c46c67f",
   "metadata": {},
   "outputs": [
    {
     "name": "stdout",
     "output_type": "stream",
     "text": [
      "[[1 2 3]\n",
      " [4 5 6]\n",
      " [7 8 9]]\n"
     ]
    }
   ],
   "source": [
    "mat = np.array([[1, 2, 3], \n",
    "                   [4, 5, 6], \n",
    "                   [7, 8, 9]])\n",
    "\n",
    "print(mat)"
   ]
  },
  {
   "cell_type": "code",
   "execution_count": 4,
   "id": "cd16175b",
   "metadata": {},
   "outputs": [],
   "source": [
    "a= np.array([1,2,3])\n",
    "b= np.array([4,5,6])"
   ]
  },
  {
   "cell_type": "code",
   "execution_count": 5,
   "id": "179a8b3b",
   "metadata": {},
   "outputs": [
    {
     "name": "stdout",
     "output_type": "stream",
     "text": [
      "Addition:  [5 7 9]\n",
      "substraction:  [-3 -3 -3]\n",
      "Dot Product:  32\n",
      "cross Product:  [-3  6 -3]\n",
      "Multiply:  [ 4 10 18]\n"
     ]
    }
   ],
   "source": [
    "print(\"Addition: \",np.add(a,b))\n",
    "print(\"substraction: \",np.subtract(a,b))\n",
    "print(\"Dot Product: \",np.dot(a,b))\n",
    "print(\"cross Product: \",np.cross(a,b))\n",
    "print(\"Multiply: \",np.multiply(a,b))"
   ]
  }
 ],
 "metadata": {
  "kernelspec": {
   "display_name": "Python 3",
   "language": "python",
   "name": "python3"
  },
  "language_info": {
   "codemirror_mode": {
    "name": "ipython",
    "version": 3
   },
   "file_extension": ".py",
   "mimetype": "text/x-python",
   "name": "python",
   "nbconvert_exporter": "python",
   "pygments_lexer": "ipython3",
   "version": "3.10.11"
  }
 },
 "nbformat": 4,
 "nbformat_minor": 5
}
